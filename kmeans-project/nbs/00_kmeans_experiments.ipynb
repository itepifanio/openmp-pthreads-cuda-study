{
 "cells": [
  {
   "cell_type": "markdown",
   "id": "dba18891-9b7e-4179-a8b6-6d53bb151d34",
   "metadata": {},
   "source": [
    "# Kmeans experiments\n",
    "\n",
    "This notebook calculates the speedup between the sequential and parallel implementation."
   ]
  },
  {
   "cell_type": "code",
   "execution_count": 1,
   "id": "5c5ea520-d0f4-416d-969f-f47dccaadaa3",
   "metadata": {},
   "outputs": [],
   "source": [
    "import pandas as pd\n",
    "import matplotlib.pyplot as plt"
   ]
  },
  {
   "cell_type": "markdown",
   "id": "c949f2d9-a2d9-406f-bca7-cd573ec7cee7",
   "metadata": {},
   "source": [
    "## Loading datasets\n",
    "\n",
    "This section loads the datasets execution results used for the experiments."
   ]
  },
  {
   "cell_type": "code",
   "execution_count": 2,
   "id": "92ee8d50-ad62-43eb-824c-cb77e1dc35fa",
   "metadata": {},
   "outputs": [],
   "source": [
    "datasets = ['rice', 'htru2', 'wesad']"
   ]
  },
  {
   "cell_type": "markdown",
   "id": "22397b98-5721-4e55-9fe7-0e55e5ad1695",
   "metadata": {},
   "source": [
    "### Sequential\n",
    "\n",
    "Loading the sequential dataframes."
   ]
  },
  {
   "cell_type": "code",
   "execution_count": 3,
   "id": "99d06cb1-a6d8-40e8-9371-86acaf301905",
   "metadata": {},
   "outputs": [],
   "source": [
    "dfs_sequential: list[pd.DataFrame] = []\n",
    "for dataset in datasets:\n",
    "    dfs_sequential.append(pd.read_csv(f'../kmeans-sequential/experiments/{dataset}_experiment_result.csv'))\n",
    "df_sequential = pd.concat(dfs_sequential, join='inner')"
   ]
  },
  {
   "cell_type": "code",
   "execution_count": 4,
   "id": "0618c8e0-15f8-4901-8240-e202a9a594e7",
   "metadata": {},
   "outputs": [
    {
     "data": {
      "text/html": [
       "<div>\n",
       "<style scoped>\n",
       "    .dataframe tbody tr th:only-of-type {\n",
       "        vertical-align: middle;\n",
       "    }\n",
       "\n",
       "    .dataframe tbody tr th {\n",
       "        vertical-align: top;\n",
       "    }\n",
       "\n",
       "    .dataframe thead th {\n",
       "        text-align: right;\n",
       "    }\n",
       "</style>\n",
       "<table border=\"1\" class=\"dataframe\">\n",
       "  <thead>\n",
       "    <tr style=\"text-align: right;\">\n",
       "      <th></th>\n",
       "      <th>iteration</th>\n",
       "      <th>dataset</th>\n",
       "      <th>time</th>\n",
       "      <th>converged_at</th>\n",
       "    </tr>\n",
       "  </thead>\n",
       "  <tbody>\n",
       "    <tr>\n",
       "      <th>0</th>\n",
       "      <td>0</td>\n",
       "      <td>rice</td>\n",
       "      <td>0.000953</td>\n",
       "      <td>8</td>\n",
       "    </tr>\n",
       "    <tr>\n",
       "      <th>1</th>\n",
       "      <td>1</td>\n",
       "      <td>rice</td>\n",
       "      <td>0.001162</td>\n",
       "      <td>11</td>\n",
       "    </tr>\n",
       "    <tr>\n",
       "      <th>2</th>\n",
       "      <td>2</td>\n",
       "      <td>rice</td>\n",
       "      <td>0.001160</td>\n",
       "      <td>11</td>\n",
       "    </tr>\n",
       "    <tr>\n",
       "      <th>3</th>\n",
       "      <td>3</td>\n",
       "      <td>rice</td>\n",
       "      <td>0.000856</td>\n",
       "      <td>8</td>\n",
       "    </tr>\n",
       "    <tr>\n",
       "      <th>4</th>\n",
       "      <td>4</td>\n",
       "      <td>rice</td>\n",
       "      <td>0.000971</td>\n",
       "      <td>9</td>\n",
       "    </tr>\n",
       "  </tbody>\n",
       "</table>\n",
       "</div>"
      ],
      "text/plain": [
       "   iteration dataset      time  converged_at\n",
       "0          0    rice  0.000953             8\n",
       "1          1    rice  0.001162            11\n",
       "2          2    rice  0.001160            11\n",
       "3          3    rice  0.000856             8\n",
       "4          4    rice  0.000971             9"
      ]
     },
     "execution_count": 4,
     "metadata": {},
     "output_type": "execute_result"
    }
   ],
   "source": [
    "df_sequential.head()"
   ]
  },
  {
   "cell_type": "markdown",
   "id": "f5770cbc-f097-4016-876b-e77955ffd34c",
   "metadata": {},
   "source": [
    "### Parallel\n",
    "\n",
    "Loading the parallel dataframes."
   ]
  },
  {
   "cell_type": "code",
   "execution_count": 5,
   "id": "15374ed5-8a97-45cf-b789-d94e051f8526",
   "metadata": {},
   "outputs": [],
   "source": [
    "dfs_omp: list[pd.DataFrame] = []\n",
    "for dataset in datasets:\n",
    "    dfs_omp.append(pd.read_csv(f'../kmeans-openmp/experiments/{dataset}_experiment_result.csv'))\n",
    "df_omp = pd.concat(dfs_omp, join='inner')"
   ]
  },
  {
   "cell_type": "code",
   "execution_count": 6,
   "id": "b13738d3-ac40-47dd-9c31-8c85befda29f",
   "metadata": {},
   "outputs": [
    {
     "data": {
      "text/html": [
       "<div>\n",
       "<style scoped>\n",
       "    .dataframe tbody tr th:only-of-type {\n",
       "        vertical-align: middle;\n",
       "    }\n",
       "\n",
       "    .dataframe tbody tr th {\n",
       "        vertical-align: top;\n",
       "    }\n",
       "\n",
       "    .dataframe thead th {\n",
       "        text-align: right;\n",
       "    }\n",
       "</style>\n",
       "<table border=\"1\" class=\"dataframe\">\n",
       "  <thead>\n",
       "    <tr style=\"text-align: right;\">\n",
       "      <th></th>\n",
       "      <th>iteration</th>\n",
       "      <th>dataset</th>\n",
       "      <th>time</th>\n",
       "      <th>converged_at</th>\n",
       "    </tr>\n",
       "  </thead>\n",
       "  <tbody>\n",
       "    <tr>\n",
       "      <th>0</th>\n",
       "      <td>0</td>\n",
       "      <td>rice</td>\n",
       "      <td>0.174021</td>\n",
       "      <td>11</td>\n",
       "    </tr>\n",
       "    <tr>\n",
       "      <th>1</th>\n",
       "      <td>1</td>\n",
       "      <td>rice</td>\n",
       "      <td>0.102154</td>\n",
       "      <td>9</td>\n",
       "    </tr>\n",
       "    <tr>\n",
       "      <th>2</th>\n",
       "      <td>2</td>\n",
       "      <td>rice</td>\n",
       "      <td>0.000437</td>\n",
       "      <td>6</td>\n",
       "    </tr>\n",
       "    <tr>\n",
       "      <th>3</th>\n",
       "      <td>3</td>\n",
       "      <td>rice</td>\n",
       "      <td>0.000375</td>\n",
       "      <td>4</td>\n",
       "    </tr>\n",
       "    <tr>\n",
       "      <th>4</th>\n",
       "      <td>4</td>\n",
       "      <td>rice</td>\n",
       "      <td>0.000959</td>\n",
       "      <td>10</td>\n",
       "    </tr>\n",
       "  </tbody>\n",
       "</table>\n",
       "</div>"
      ],
      "text/plain": [
       "   iteration dataset      time  converged_at\n",
       "0          0    rice  0.174021            11\n",
       "1          1    rice  0.102154             9\n",
       "2          2    rice  0.000437             6\n",
       "3          3    rice  0.000375             4\n",
       "4          4    rice  0.000959            10"
      ]
     },
     "execution_count": 6,
     "metadata": {},
     "output_type": "execute_result"
    }
   ],
   "source": [
    "df_omp.head()"
   ]
  },
  {
   "cell_type": "markdown",
   "id": "49bcb313-40f2-430a-a332-b906eb441867",
   "metadata": {},
   "source": [
    "## Comparing execution time\n",
    "\n",
    "This section compares the execution time between the parallel and "
   ]
  },
  {
   "cell_type": "code",
   "execution_count": 10,
   "id": "189296b3-d49a-4335-b8bd-c3026dfe8fdf",
   "metadata": {},
   "outputs": [
    {
     "name": "stderr",
     "output_type": "stream",
     "text": [
      "/tmp/ipykernel_308660/3473945970.py:14: MatplotlibDeprecationWarning: The 'labels' parameter of boxplot() has been renamed 'tick_labels' since Matplotlib 3.9; support for the old name will be dropped in 3.11.\n",
      "  bp = ax.boxplot(\n",
      "/tmp/ipykernel_308660/3473945970.py:14: MatplotlibDeprecationWarning: The 'labels' parameter of boxplot() has been renamed 'tick_labels' since Matplotlib 3.9; support for the old name will be dropped in 3.11.\n",
      "  bp = ax.boxplot(\n",
      "/tmp/ipykernel_308660/3473945970.py:14: MatplotlibDeprecationWarning: The 'labels' parameter of boxplot() has been renamed 'tick_labels' since Matplotlib 3.9; support for the old name will be dropped in 3.11.\n",
      "  bp = ax.boxplot(\n"
     ]
    },
    {
     "data": {
      "image/png": "[encoded data removed]",
      "text/plain": [
       "<Figure size 1200x400 with 3 Axes>"
      ]
     },
     "metadata": {},
     "output_type": "display_data"
    }
   ],
   "source": [
    "datasets = ['rice','htru2','wesad']\n",
    "df_omp['algorithm'] = 'omp'\n",
    "df_sequential['algorithm'] = 'sequential'\n",
    "df = pd.concat([df_omp, df_sequential], ignore_index=True)\n",
    "\n",
    "fig, axes = plt.subplots(1, 3, figsize=(12,4), sharey=False)\n",
    "\n",
    "for ax, ds in zip(axes, datasets):\n",
    "    sub = df[df.dataset == ds]\n",
    "    seq = sub[sub.algorithm=='sequential']['time'].values\n",
    "    omp = sub[sub.algorithm=='omp']['time'].values\n",
    "\n",
    "    # draw boxplots\n",
    "    bp = ax.boxplot(\n",
    "        [seq, omp],\n",
    "        labels=['seq','omp'],\n",
    "        patch_artist=True,\n",
    "        showfliers=False\n",
    "    )\n",
    "    # color them\n",
    "    bp['boxes'][0].set_facecolor('C4')\n",
    "    bp['boxes'][1].set_facecolor('C0')\n",
    "\n",
    "    ax.set_title(ds)\n",
    "    ax.set_xlabel('Algorithm')\n",
    "\n",
    "    # auto-scale y to just cover this dataset’s range\n",
    "    top = max(seq.max(), omp.max()) * 1.1\n",
    "    ax.set_ylim(0, top)\n",
    "\n",
    "axes[0].set_ylabel('Execution time (s)')\n",
    "plt.tight_layout()\n",
    "plt.show()\n",
    "# plt.savefig('boxplot.png')"
   ]
  },
  {
   "cell_type": "code",
   "execution_count": 15,
   "id": "973411f0-0d13-40f8-92d1-761abe6187b3",
   "metadata": {},
   "outputs": [
    {
     "data": {
      "image/png": "[encoded data removed]",
      "text/plain": [
       "<Figure size 600x400 with 1 Axes>"
      ]
     },
     "metadata": {},
     "output_type": "display_data"
    }
   ],
   "source": [
    "mean_times = (\n",
    "    df\n",
    "    .groupby(['dataset','algorithm'])['time']\n",
    "    .mean()\n",
    "    .unstack('algorithm')\n",
    "    .loc[datasets]\n",
    ")\n",
    "\n",
    "# Speedup = tempo sequencial / tempo omp\n",
    "speedup = mean_times['sequential'] / mean_times['omp']\n",
    "\n",
    "# 2) Plot horizontal de barras\n",
    "speedup_sorted = speedup.sort_values()\n",
    "\n",
    "fig, ax = plt.subplots(figsize=(6,4))\n",
    "bars = ax.barh(speedup_sorted.index, speedup_sorted.values, height=0.6)\n",
    "\n",
    "ax.set_xlabel('Speedup')\n",
    "ax.set_ylabel('Dataset')\n",
    "ax.set_xlim(0, speedup_sorted.max() * 1.1)\n",
    "\n",
    "# Anotar valores ao final de cada barra\n",
    "for bar in bars:\n",
    "    w = bar.get_width()\n",
    "    ax.text(w + 0.02, bar.get_y() + bar.get_height()/2,\n",
    "            f'{w:.2f}', va='center')\n",
    "\n",
    "plt.grid(axis='x', linestyle='--', alpha=0.3)\n",
    "plt.tight_layout()\n",
    "plt.show()\n",
    "plt.savefig('speedup.png')"
   ]
  },
  {
   "cell_type": "code",
   "execution_count": 21,
   "id": "bad72b5f-451e-4c6e-adff-66414cabacec",
   "metadata": {},
   "outputs": [
    {
     "data": {
      "image/png": "[encoded data removed]",
      "text/plain": [
       "<Figure size 600x400 with 1 Axes>"
      ]
     },
     "metadata": {},
     "output_type": "display_data"
    }
   ],
   "source": [
    "import pandas as pd\n",
    "import numpy as np\n",
    "import matplotlib.pyplot as plt\n",
    "\n",
    "# 1) load & compute per-run speedup\n",
    "datasets = ['rice','htru2','wesad']\n",
    "def load_and_tag(path, label):\n",
    "    df = pd.read_csv(path)\n",
    "    df['algorithm'] = label\n",
    "    return df\n",
    "\n",
    "dfs = []\n",
    "for d in datasets:\n",
    "    dfs.append(load_and_tag(f'../kmeans-sequential/experiments/{d}_experiment_result.csv','sequential'))\n",
    "    dfs.append(load_and_tag(f'../kmeans-openmp/experiments/{d}_experiment_result.csv','omp'))\n",
    "df = pd.concat(dfs, ignore_index=True)\n",
    "\n",
    "df['time'] = pd.to_numeric(df['time'], errors='coerce')\n",
    "df = df.dropna(subset=['time'])\n",
    "\n",
    "seq = df[df.algorithm=='sequential'][['dataset','iteration','time']].rename(columns={'time':'t_seq'})\n",
    "omp = df[df.algorithm=='omp'][['dataset','iteration','time']].rename(columns={'time':'t_omp'})\n",
    "merged = pd.merge(seq, omp, on=['dataset','iteration'])\n",
    "merged['speedup'] = merged['t_seq'] / merged['t_omp']\n",
    "\n",
    "stats = merged.groupby('dataset')['speedup'].agg(['min','mean','max']).loc[datasets]\n",
    "\n",
    "# 2) plot\n",
    "y_pos = np.arange(len(datasets))\n",
    "means = stats['mean'].values\n",
    "mins = stats['min'].values\n",
    "maxs = stats['max'].values\n",
    "\n",
    "fig, ax = plt.subplots(figsize=(6,4))\n",
    "ax.barh(y_pos, means, height=0.6, color='C0', label='mean speedup')\n",
    "\n",
    "# overlay min/max markers with labels\n",
    "for i in range(len(datasets)):\n",
    "    # min marker\n",
    "    ax.scatter(mins[i], i,\n",
    "               marker='o', s=200,\n",
    "               facecolors='white', edgecolors='black', zorder=3)\n",
    "    ax.text(mins[i], i, f\"{mins[i]:.2f}\",\n",
    "            va='center', ha='center', zorder=4, fontsize=8)\n",
    "\n",
    "    # max marker\n",
    "    ax.scatter(maxs[i], i,\n",
    "               marker='o', s=200,\n",
    "               facecolors='white', edgecolors='black', zorder=3)\n",
    "    ax.text(maxs[i], i, f\"{maxs[i]:.2f}\",\n",
    "            va='center', ha='center', zorder=4, fontsize=8)\n",
    "\n",
    "ax.set_yticks(y_pos)\n",
    "ax.set_yticklabels(stats.index)\n",
    "ax.set_xlabel('Speedup (sequential ÷ OpenMP)')\n",
    "ax.set_title('Per-dataset Speedup: mean bar + min/max markers')\n",
    "ax.set_xlim(0, maxs.max()*1.1)\n",
    "ax.grid(axis='x', linestyle='--', alpha=0.4)\n",
    "\n",
    "# legend\n",
    "ax.legend(loc='lower right')\n",
    "plt.tight_layout()\n",
    "plt.show()\n"
   ]
  },
  {
   "cell_type": "code",
   "execution_count": 23,
   "id": "dff13af5-6545-4a14-8292-73b235e75d0c",
   "metadata": {},
   "outputs": [
    {
     "data": {
      "text/html": [
       "<div>\n",
       "<style scoped>\n",
       "    .dataframe tbody tr th:only-of-type {\n",
       "        vertical-align: middle;\n",
       "    }\n",
       "\n",
       "    .dataframe tbody tr th {\n",
       "        vertical-align: top;\n",
       "    }\n",
       "\n",
       "    .dataframe thead th {\n",
       "        text-align: right;\n",
       "    }\n",
       "</style>\n",
       "<table border=\"1\" class=\"dataframe\">\n",
       "  <thead>\n",
       "    <tr style=\"text-align: right;\">\n",
       "      <th></th>\n",
       "      <th>min</th>\n",
       "      <th>mean</th>\n",
       "      <th>max</th>\n",
       "    </tr>\n",
       "    <tr>\n",
       "      <th>dataset</th>\n",
       "      <th></th>\n",
       "      <th></th>\n",
       "      <th></th>\n",
       "    </tr>\n",
       "  </thead>\n",
       "  <tbody>\n",
       "    <tr>\n",
       "      <th>rice</th>\n",
       "      <td>0.005476</td>\n",
       "      <td>1.071662</td>\n",
       "      <td>2.654462</td>\n",
       "    </tr>\n",
       "    <tr>\n",
       "      <th>htru2</th>\n",
       "      <td>0.306906</td>\n",
       "      <td>1.358204</td>\n",
       "      <td>2.641977</td>\n",
       "    </tr>\n",
       "    <tr>\n",
       "      <th>wesad</th>\n",
       "      <td>1.817803</td>\n",
       "      <td>2.829280</td>\n",
       "      <td>4.480436</td>\n",
       "    </tr>\n",
       "  </tbody>\n",
       "</table>\n",
       "</div>"
      ],
      "text/plain": [
       "              min      mean       max\n",
       "dataset                              \n",
       "rice     0.005476  1.071662  2.654462\n",
       "htru2    0.306906  1.358204  2.641977\n",
       "wesad    1.817803  2.829280  4.480436"
      ]
     },
     "execution_count": 23,
     "metadata": {},
     "output_type": "execute_result"
    }
   ],
   "source": [
    "stats"
   ]
  }
 ],
 "metadata": {
  "kernelspec": {
   "display_name": "Python 3 (ipykernel)",
   "language": "python",
   "name": "python3"
  },
  "language_info": {
   "codemirror_mode": {
    "name": "ipython",
    "version": 3
   },
   "file_extension": ".py",
   "mimetype": "text/x-python",
   "name": "python",
   "nbconvert_exporter": "python",
   "pygments_lexer": "ipython3",
   "version": "3.11.11"
  }
 },
 "nbformat": 4,
 "nbformat_minor": 5
}
